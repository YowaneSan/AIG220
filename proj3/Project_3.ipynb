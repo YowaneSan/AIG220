{
 "cells": [
  {
   "cell_type": "markdown",
   "metadata": {},
   "source": [
    "# Project 3: Implementing a Simple Recurrent Neural Network (RNN)\n",
    "\n",
    "## Introduction\n",
    "\n",
    "In this project, you will design, implement, and evaluate a simple Recurrent Neural Network (RNN) from scratch. This will involve building the entire pipeline, from data preprocessing to model training and evaluation.\n",
    "\n",
    "## Objectives\n",
    "\n",
    "1. Set up TensorFlow or PyTorch environments. You are free to choose your preferred DL platform.\n",
    "2. Use GPU for training.\n",
    "3. Create a data loader and implement data preprocessing where needed.\n",
    "4. Design a Convolutional Neural Network.\n",
    "5. Train and evaluate your model. Make sure to clearly show loss and accuracy values. Include visualizations too.\n",
    "6. Answer assessment questions.\n",
    "\n",
    "## Dataset\n",
    "\n",
    "You are free to choose any dataset for this project! Kaggle would be a good source to look for datasets. Below are some examples:\n",
    "- Daily Minimum Temperatures in Melbourne: This dataset contains the daily minimum temperatures in Melbourne, Australia, from 1981 to 1990.\n",
    "- Daily Bitcoin Prices: This dataset contains historical daily prices of Bitcoin, which can be used for time series forecasting projects.\n",
    "- Text8 Dataset: This dataset consists of the first 100 million characters from Wikipedia. It's great for text generation or language modeling tasks.\n",
    "- IMDB Movie Reviews: This dataset contains 50,000 movie reviews for sentiment analysis, split evenly into 25,000 training and 25,000 test sets.\n",
    "- Jena Climate Dataset: This dataset records various weather attributes (temperature, pressure, humidity, etc.) every 10 minutes, making it ideal for time series analysis.\n",
    "- Earthquake Aftershocks: This dataset contains seismic data, suitable for predicting aftershocks following major earthquakes.\n"
   ]
  },
  {
   "cell_type": "code",
   "execution_count": 3,
   "metadata": {},
   "outputs": [],
   "source": [
    "# !pip install fluidsynth\n",
    "# !pip install --upgrade pyfluidsynth\n",
    "import collections\n",
    "import datetime\n",
    "import fluidsynth\n",
    "import glob\n",
    "import numpy as np\n",
    "import pathlib\n",
    "import pandas as pd\n",
    "import pretty_midi\n",
    "import seaborn as sns\n",
    "\n",
    "from IPython import display\n",
    "from matplotlib import pyplot as plt\n",
    "from typing import Optional"
   ]
  },
  {
   "cell_type": "code",
   "execution_count": 8,
   "metadata": {},
   "outputs": [
    {
     "name": "stdout",
     "output_type": "stream",
     "text": [
      "Number of files: 1282\n"
     ]
    }
   ],
   "source": [
    "# set datapath, data source: https://storage.googleapis.com/magentadata/datasets/maestro/v2.0.0/maestro-v2.0.0-midi.zip\n",
    "data_dir = pathlib.Path('data/maestro-v2.0.0')\n",
    "filenames = glob.glob(str(data_dir/'**/*.mid*'))\n",
    "print('Number of files:', len(filenames))"
   ]
  },
  {
   "cell_type": "markdown",
   "metadata": {},
   "source": [
    "## Preprocess\n",
    "\n",
    "midi file is different format from typical audio(mp3,wav) it a record of pitch/velocity/duration of the note instead of actual sound recording\n",
    "\n",
    " prepare midi_to_note function, this is to extract midi file into note\n",
    "which is contain \n",
    "- pitch - the key of the note range from 0-127 starting from C-1 (C in lowest octave)\n",
    "from the example file\n",
    "    - 55 is G3\n",
    "    - 81 is A#5 (A sharp)\n",
    "    - 62 is D4 etc\n",
    "- start,end - when do note start and end in the sequence which use to calculate duration\n",
    "- step - different between start of itself and start of the note before them (this is for knowning space between each note)"
   ]
  },
  {
   "cell_type": "code",
   "execution_count": 20,
   "metadata": {},
   "outputs": [
    {
     "data": {
      "text/html": [
       "<div>\n",
       "<style scoped>\n",
       "    .dataframe tbody tr th:only-of-type {\n",
       "        vertical-align: middle;\n",
       "    }\n",
       "\n",
       "    .dataframe tbody tr th {\n",
       "        vertical-align: top;\n",
       "    }\n",
       "\n",
       "    .dataframe thead th {\n",
       "        text-align: right;\n",
       "    }\n",
       "</style>\n",
       "<table border=\"1\" class=\"dataframe\">\n",
       "  <thead>\n",
       "    <tr style=\"text-align: right;\">\n",
       "      <th></th>\n",
       "      <th>pitch</th>\n",
       "      <th>start</th>\n",
       "      <th>end</th>\n",
       "      <th>step</th>\n",
       "      <th>duration</th>\n",
       "    </tr>\n",
       "  </thead>\n",
       "  <tbody>\n",
       "    <tr>\n",
       "      <th>0</th>\n",
       "      <td>43</td>\n",
       "      <td>0.000000</td>\n",
       "      <td>0.079545</td>\n",
       "      <td>0.000000</td>\n",
       "      <td>0.079545</td>\n",
       "    </tr>\n",
       "    <tr>\n",
       "      <th>1</th>\n",
       "      <td>31</td>\n",
       "      <td>0.009091</td>\n",
       "      <td>0.075000</td>\n",
       "      <td>0.009091</td>\n",
       "      <td>0.065909</td>\n",
       "    </tr>\n",
       "    <tr>\n",
       "      <th>2</th>\n",
       "      <td>44</td>\n",
       "      <td>0.111364</td>\n",
       "      <td>0.184091</td>\n",
       "      <td>0.102273</td>\n",
       "      <td>0.072727</td>\n",
       "    </tr>\n",
       "    <tr>\n",
       "      <th>3</th>\n",
       "      <td>32</td>\n",
       "      <td>0.113636</td>\n",
       "      <td>0.186364</td>\n",
       "      <td>0.002273</td>\n",
       "      <td>0.072727</td>\n",
       "    </tr>\n",
       "    <tr>\n",
       "      <th>4</th>\n",
       "      <td>46</td>\n",
       "      <td>0.175000</td>\n",
       "      <td>0.270455</td>\n",
       "      <td>0.061364</td>\n",
       "      <td>0.095455</td>\n",
       "    </tr>\n",
       "  </tbody>\n",
       "</table>\n",
       "</div>"
      ],
      "text/plain": [
       "   pitch     start       end      step  duration\n",
       "0     43  0.000000  0.079545  0.000000  0.079545\n",
       "1     31  0.009091  0.075000  0.009091  0.065909\n",
       "2     44  0.111364  0.184091  0.102273  0.072727\n",
       "3     32  0.113636  0.186364  0.002273  0.072727\n",
       "4     46  0.175000  0.270455  0.061364  0.095455"
      ]
     },
     "execution_count": 20,
     "metadata": {},
     "output_type": "execute_result"
    }
   ],
   "source": [
    "def midi_to_notes(midi_file: str) -> pd.DataFrame:\n",
    "  pm = pretty_midi.PrettyMIDI(midi_file)\n",
    "  instrument = pm.instruments[0]\n",
    "  notes = collections.defaultdict(list)\n",
    "\n",
    "  # Sort the notes by start time\n",
    "  sorted_notes = sorted(instrument.notes, key=lambda note: note.start)\n",
    "  prev_start = sorted_notes[0].start\n",
    "\n",
    "  for note in sorted_notes:\n",
    "    start = note.start\n",
    "    end = note.end\n",
    "    notes['pitch'].append(note.pitch)\n",
    "    notes['start'].append(start)\n",
    "    notes['end'].append(end)\n",
    "    notes['step'].append(start - prev_start)\n",
    "    notes['duration'].append(end - start)\n",
    "    prev_start = start\n",
    "\n",
    "  return pd.DataFrame({name: np.array(value) for name, value in notes.items()})\n",
    "\n",
    "sample_file = 'example.midi'\n",
    "raw_notes = midi_to_notes(sample_file)\n",
    "raw_notes.head()"
   ]
  },
  {
   "cell_type": "markdown",
   "metadata": {},
   "source": [
    "# Visualize note seqeunce"
   ]
  },
  {
   "cell_type": "code",
   "execution_count": 22,
   "metadata": {},
   "outputs": [
    {
     "data": {
      "image/png": "[encoded data removed]",
      "text/plain": [
       "<Figure size 2000x400 with 1 Axes>"
      ]
     },
     "metadata": {},
     "output_type": "display_data"
    }
   ],
   "source": [
    "def plot_piano_roll(notes: pd.DataFrame, count: Optional[int] = None):\n",
    "  if count:\n",
    "    title = f'First {count} notes'\n",
    "  else:\n",
    "    title = f'Whole track'\n",
    "    count = len(notes['pitch'])\n",
    "  plt.figure(figsize=(20, 4))\n",
    "  plot_pitch = np.stack([notes['pitch'], notes['pitch']], axis=0)\n",
    "  plot_start_stop = np.stack([notes['start'], notes['end']], axis=0)\n",
    "  plt.plot(\n",
    "      plot_start_stop[:, :count], plot_pitch[:, :count], color=\"b\", marker=\".\")\n",
    "  plt.xlabel('Time [s]')\n",
    "  plt.ylabel('Pitch')\n",
    "  _ = plt.title(title)\n",
    "\n",
    "#first 300 note\n",
    "plot_piano_roll(raw_notes, count=100)    "
   ]
  },
  {
   "cell_type": "markdown",
   "metadata": {},
   "source": [
    "## Function for playing Midi file\n",
    "midi file is different format from typical audio(mp3,wav) it a record of pitch/velocity/duration of the note instead of actual sound recording"
   ]
  },
  {
   "cell_type": "code",
   "execution_count": 24,
   "metadata": {},
   "outputs": [
    {
     "name": "stdout",
     "output_type": "stream",
     "text": [
      "Press 'q' to quit\n"
     ]
    },
    {
     "name": "stdin",
     "output_type": "stream",
     "text": [
      "Press 'q' to quit:  q\n"
     ]
    }
   ],
   "source": [
    "import pygame\n",
    "import time\n",
    "\n",
    "def play_midi(file_path):\n",
    "    pygame.mixer.init()\n",
    "    pygame.mixer.music.load(file_path)\n",
    "    pygame.mixer.music.play()\n",
    "    \n",
    "    # Wait a bit to ensure playback has started\n",
    "    time.sleep(2)\n",
    "    \n",
    "    print(\"Press 'q' to quit\")\n",
    "    while pygame.mixer.music.get_busy():\n",
    "        # Check for keyboard input to stop playback\n",
    "        if input(\"Press 'q' to quit: \").lower() == 'q':\n",
    "            pygame.mixer.music.stop()\n",
    "            break\n",
    "\n",
    "example_file = 'example.midi'\n",
    "play_midi(example_file)"
   ]
  },
  {
   "cell_type": "markdown",
   "metadata": {},
   "source": [
    "## Create training dataset"
   ]
  },
  {
   "cell_type": "code",
   "execution_count": 29,
   "metadata": {},
   "outputs": [
    {
     "name": "stdout",
     "output_type": "stream",
     "text": [
      "Number of notes parsed: 37241\n",
      "Sequence batch shape: torch.Size([64, 25, 3])\n",
      "Target batch shape: torch.Size([64, 3])\n"
     ]
    }
   ],
   "source": [
    "import torch\n",
    "from torch.utils.data import Dataset, DataLoader\n",
    "import pandas as pd\n",
    "import numpy as np\n",
    "\n",
    "num_files = 5\n",
    "all_notes = []\n",
    "for f in filenames[:num_files]:\n",
    "    notes = midi_to_notes(f)\n",
    "    all_notes.append(notes)\n",
    "\n",
    "all_notes = pd.concat(all_notes)\n",
    "\n",
    "n_notes = len(all_notes)\n",
    "print('Number of notes parsed:', n_notes)\n",
    "\n",
    "key_order = ['pitch', 'step', 'duration']\n",
    "train_notes = np.stack([all_notes[key].values for key in key_order], axis=1)\n",
    "\n",
    "# Convert to PyTorch tensors\n",
    "train_notes = torch.tensor(train_notes, dtype=torch.float32)\n",
    "\n",
    "class NotesDataset(Dataset):\n",
    "    def __init__(self, notes, seq_length):\n",
    "        self.notes = notes\n",
    "        self.seq_length = seq_length\n",
    "    \n",
    "    def __len__(self):\n",
    "        return len(self.notes) - self.seq_length\n",
    "    \n",
    "    def __getitem__(self, idx):\n",
    "        idx = idx.item() if torch.is_tensor(idx) else idx\n",
    "        return {\n",
    "            'sequence': self.notes[idx:idx+self.seq_length],\n",
    "            'target': self.notes[idx+self.seq_length]\n",
    "        }\n",
    "\n",
    "def collate_fn(batch):\n",
    "    sequences = [item['sequence'] for item in batch]\n",
    "    targets = [item['target'] for item in batch]\n",
    "    return {\n",
    "        'sequences': torch.stack(sequences),\n",
    "        'targets': torch.stack(targets)\n",
    "    }\n",
    "\n",
    "seq_length = 25\n",
    "notes_ds = NotesDataset(train_notes, seq_length)\n",
    "train_loader = DataLoader(notes_ds, batch_size=64, shuffle=True, collate_fn=collate_fn)\n",
    "\n",
    "# Example usage\n",
    "for batch in train_loader:\n",
    "    seq_batch, target_batch = batch['sequences'], batch['targets']\n",
    "    print('Sequence batch shape:', seq_batch.shape)\n",
    "    print('Target batch shape:', target_batch.shape)\n",
    "    break  # Stop after the first batch for demonstration\n"
   ]
  },
  {
   "cell_type": "markdown",
   "metadata": {},
   "source": [
    "---\n",
    "### Questions\n",
    "Answer the following questions in detail.\n",
    "\n",
    "1. What is a Recurrent Neural Network (RNN)? Describe its key components and how they differ from those in a feedforward neural network.\n",
    "2. Explain the purpose of the recurrent connection in an RNN. How does it enable the network to handle sequential data?\n",
    "3. What are vanishing and exploding gradients, and how do they affect the training of RNNs?\n",
    "4. Describe the Long Short-Term Memory (LSTM) network and its key components. How does it address the issues of vanishing and exploding gradients?\n",
    "5. What is the purpose of the GRU (Gated Recurrent Unit) in RNNs? Compare it with LSTM.\n",
    "6. Explain the role of the hidden state in an RNN. How is it updated during the training process?\n",
    "7. What are some common evaluation metrics used to assess the performance of an RNN on a sequential task, such as language modeling or time series forecasting?\n",
    "8. How does data preprocessing impact the performance of RNNs? Provide examples of preprocessing steps for text and time series data.\n",
    "9. What is sequence-to-sequence learning in the context of RNNs, and what are its applications?\n",
    "10. How can RNNs be used for anomaly detection in time series data? Describe the general approach.\n"
   ]
  },
  {
   "cell_type": "markdown",
   "metadata": {},
   "source": [
    "---\n",
    "### Submission\n",
    "Submit a link to your completed Jupyter Notebook (e.g., on GitHub (private) or Google Colab) with all the cells executed, and answers to the assessment questions included at the end of the notebook."
   ]
  }
 ],
 "metadata": {
  "kernelspec": {
   "display_name": "Python 3 (ipykernel)",
   "language": "python",
   "name": "python3"
  },
  "language_info": {
   "codemirror_mode": {
    "name": "ipython",
    "version": 3
   },
   "file_extension": ".py",
   "mimetype": "text/x-python",
   "name": "python",
   "nbconvert_exporter": "python",
   "pygments_lexer": "ipython3",
   "version": "3.12.3"
  }
 },
 "nbformat": 4,
 "nbformat_minor": 4
}
